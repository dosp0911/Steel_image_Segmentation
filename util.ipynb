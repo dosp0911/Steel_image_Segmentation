{
 "cells": [
  {
   "cell_type": "code",
   "execution_count": 2,
   "metadata": {},
   "outputs": [],
   "source": [
    "import pandas as pd\n",
    "import shutil\n",
    "\n",
    "import pathlib\n",
    "from tqdm import tqdm\n",
    "\n",
    "import torch\n",
    "import torch.nn as nn"
   ]
  },
  {
   "cell_type": "code",
   "execution_count": 2,
   "metadata": {},
   "outputs": [],
   "source": [
    "def csv_file_load(f_p, index_col=False ):\n",
    "    if f_p.exists():\n",
    "        return pd.read_csv(f_p, index_col=index_col)\n",
    "    else:\n",
    "        raise FileExistsError(f'{f_p} no exist!')"
   ]
  },
  {
   "cell_type": "code",
   "execution_count": 16,
   "metadata": {},
   "outputs": [],
   "source": [
    "def move_files_to_class_folders(f_names, classes, root_f):\n",
    "    root_path = pathlib.Path(str(root_f))\n",
    "    if not(root_path.exists()):\n",
    "        raise FileExistsError(f'{root_f} does not exist')\n",
    "        \n",
    "    class_dirs = pd.unique(classes).astype('str')\n",
    "    for d in class_dirs:\n",
    "        class_dir = root_path / d\n",
    "        if not class_dir.exists():\n",
    "            class_dir.mkdir()\n",
    "        \n",
    "    for file, c_ in tqdm(zip(f_names, classes.astype('str'))):\n",
    "        shutil.copy(str(root_path / file), str(root_path / c_))\n",
    "        \n",
    "    print('Done.')"
   ]
  },
  {
   "cell_type": "code",
   "execution_count": null,
   "metadata": {},
   "outputs": [],
   "source": [
    "def print_model_memory_size(model):\n",
    "    total_ = 0\n",
    "    for k, v in model.state_dict().items():\n",
    "        print(f'name:{k} size:{v.size()} dtype:{v.dtype}')\n",
    "        total_ += v.numel()\n",
    "    print(f'Model size : {total_*4} byte -> {total_*4/1024**2} MiB')\n"
   ]
  },
  {
   "cell_type": "code",
   "execution_count": 49,
   "metadata": {},
   "outputs": [],
   "source": [
    "def get_pixel_value_frequencies(img_arr, dtype=int):\n",
    "  '''\n",
    "    img_arr = (N,H,W) or (H,W) \n",
    "    dtype = pixel values \n",
    "    counts unique pixel values of images\n",
    "  '''\n",
    "  arr = np.reshape(img_arr, -1)\n",
    "  uvals = np.unique(arr).astype(dtype)\n",
    "  uvals_dic = {}\n",
    "  \n",
    "  for u in list(uvals):\n",
    "    uvals_dic[u] = np.sum(arr==u)\n",
    "  return uvals_dic"
   ]
  },
  {
   "cell_type": "code",
   "execution_count": 46,
   "metadata": {},
   "outputs": [],
   "source": [
    "def get_weights_ratio_over_frequnecies(freq):\n",
    "  '''\n",
    "    # [2,3,4,5] -> [1/2, 1/3, 1/4, 1/5]\n",
    "  '''\n",
    "  return list(map(lambda x: 1/x, freq))"
   ]
  },
  {
   "cell_type": "code",
   "execution_count": null,
   "metadata": {},
   "outputs": [],
   "source": [
    "def save_model(model, optim, save_path, epoch, loss):\n",
    "  torch.save({\n",
    "        # 'model' : model,\n",
    "        'model_state_dict': model.state_dict(),\n",
    "        'epoch': epoch,\n",
    "        'loss' : loss,\n",
    "        'optim_state_dict': optim.state_dict()\n",
    "    }, save_path)\n",
    "  print(f'model saved \\n {save_path}')"
   ]
  },
  {
   "cell_type": "code",
   "execution_count": null,
   "metadata": {},
   "outputs": [],
   "source": [
    "def load_model(path, model, map_location=None):\n",
    "  '''\n",
    "    args:\n",
    "      path : location to load model\n",
    "      model : model variable\n",
    "      map_location : device to load model\n",
    "    return:\n",
    "      model loaded weights from saved model\n",
    "  '''\n",
    "  load_model = torch.load(path, map_location=map_location)\n",
    "  model.load_state_dict(load_model['model_state_dict'])\n",
    "  return model"
   ]
  },
  {
   "cell_type": "code",
   "execution_count": 1,
   "metadata": {},
   "outputs": [
    {
     "ename": "NameError",
     "evalue": "name 'torch' is not defined",
     "output_type": "error",
     "traceback": [
      "\u001b[1;31m---------------------------------------------------------------------------\u001b[0m",
      "\u001b[1;31mNameError\u001b[0m                                 Traceback (most recent call last)",
      "\u001b[1;32m<ipython-input-1-aac7e9990275>\u001b[0m in \u001b[0;36m<module>\u001b[1;34m\u001b[0m\n\u001b[1;32m----> 1\u001b[1;33m \u001b[0mhelp\u001b[0m\u001b[1;33m(\u001b[0m\u001b[0mtorch\u001b[0m\u001b[1;33m.\u001b[0m\u001b[0mload\u001b[0m\u001b[1;33m)\u001b[0m\u001b[1;33m\u001b[0m\u001b[1;33m\u001b[0m\u001b[0m\n\u001b[0m",
      "\u001b[1;31mNameError\u001b[0m: name 'torch' is not defined"
     ]
    }
   ],
   "source": [
    "help(torch.load)"
   ]
  },
  {
   "cell_type": "code",
   "execution_count": null,
   "metadata": {},
   "outputs": [],
   "source": [
    "def display_weights_of_model(model):\n",
    "  l_p = sum(1 for x in model.parameters())\n",
    "  fg, axes = plt.subplots(l_p//5+1, 5, figsize=(15,15))\n",
    "  fg.tight_layout()\n",
    "\n",
    "  for i, p in enumerate(model.parameters()):\n",
    "    sns.distplot(p.detach().numpy(), ax=axes[i//5,i%5])"
   ]
  },
  {
   "cell_type": "code",
   "execution_count": 28,
   "metadata": {},
   "outputs": [],
   "source": [
    "class class2d_to_onehot(nn.Module):\n",
    "  def __init__(self, classes):\n",
    "    '''\n",
    "    args:\n",
    "      classes: [0,1,2,3... labels] labels must be integer\n",
    "      It will add channles of the number of labels to target \n",
    "    '''\n",
    "    super(class2d_to_onehot, self).__init__()\n",
    "    self.classes = torch.tensor(classes).unique()\n",
    "    \n",
    "  def forward(self, target):\n",
    "    '''\n",
    "      args: \n",
    "        target: (N,H,W), (H,W)\n",
    "      return:\n",
    "        (N,H,W)->(N,C,H,W)\n",
    "        (H,W)->(C,H,W)\n",
    "    ''' \n",
    "    ndims = len(target.size())\n",
    "\n",
    "    assert ndims == 2 or ndims == 3\n",
    "\n",
    "    if ndims == 2:\n",
    "      cls_stacks = torch.stack([(target==c).type(torch.float32) for c in self.classes], dim=0)\n",
    "    elif ndims == 3:\n",
    "      cls_stacks = torch.stack([(target==c).type(torch.float32) for c in self.classes], dim=1)\n",
    "\n",
    "    return cls_stacks\n",
    "  "
   ]
  },
  {
   "cell_type": "code",
   "execution_count": 34,
   "metadata": {},
   "outputs": [
    {
     "name": "stderr",
     "output_type": "stream",
     "text": [
      "[NbConvertApp] Converting notebook util.ipynb to script\n",
      "[NbConvertApp] Writing 3404 bytes to util.py\n"
     ]
    }
   ],
   "source": [
    "if __name__ == '__main__':\n",
    "  !jupyter nbconvert --to script util.ipynb"
   ]
  },
  {
   "cell_type": "code",
   "execution_count": 32,
   "metadata": {},
   "outputs": [
    {
     "name": "stdout",
     "output_type": "stream",
     "text": [
      "tensor([[[0., 0., 0., 0., 0., 0., 0., 0.],\n",
      "         [0., 0., 0., 0., 0., 0., 0., 0.],\n",
      "         [0., 0., 0., 0., 0., 0., 0., 0.],\n",
      "         [1., 1., 1., 1., 1., 1., 1., 1.],\n",
      "         [5., 5., 5., 5., 5., 5., 5., 5.],\n",
      "         [0., 0., 0., 0., 0., 0., 0., 0.],\n",
      "         [0., 0., 0., 0., 0., 0., 0., 0.]],\n",
      "\n",
      "        [[0., 0., 0., 0., 0., 0., 0., 1.],\n",
      "         [0., 0., 0., 0., 0., 0., 0., 1.],\n",
      "         [7., 7., 7., 7., 7., 7., 7., 1.],\n",
      "         [0., 0., 0., 0., 0., 0., 0., 1.],\n",
      "         [0., 0., 0., 0., 0., 0., 0., 1.],\n",
      "         [0., 0., 0., 0., 0., 0., 0., 1.],\n",
      "         [0., 0., 0., 0., 0., 0., 0., 1.]],\n",
      "\n",
      "        [[0., 0., 0., 0., 0., 0., 0., 0.],\n",
      "         [0., 0., 0., 0., 0., 2., 2., 2.],\n",
      "         [0., 0., 0., 0., 0., 2., 2., 2.],\n",
      "         [0., 0., 5., 5., 0., 0., 0., 0.],\n",
      "         [0., 0., 5., 5., 0., 0., 0., 0.],\n",
      "         [0., 0., 0., 0., 0., 0., 0., 0.],\n",
      "         [0., 0., 0., 0., 0., 0., 0., 0.]]])\n",
      "torch.Size([3, 3, 7, 8])\n",
      "tensor([[[[0., 0., 0., 0., 0., 0., 0., 0.],\n",
      "          [0., 0., 0., 0., 0., 0., 0., 0.],\n",
      "          [0., 0., 0., 0., 0., 0., 0., 0.],\n",
      "          [1., 1., 1., 1., 1., 1., 1., 1.],\n",
      "          [0., 0., 0., 0., 0., 0., 0., 0.],\n",
      "          [0., 0., 0., 0., 0., 0., 0., 0.],\n",
      "          [0., 0., 0., 0., 0., 0., 0., 0.]],\n",
      "\n",
      "         [[0., 0., 0., 0., 0., 0., 0., 0.],\n",
      "          [0., 0., 0., 0., 0., 0., 0., 0.],\n",
      "          [0., 0., 0., 0., 0., 0., 0., 0.],\n",
      "          [0., 0., 0., 0., 0., 0., 0., 0.],\n",
      "          [0., 0., 0., 0., 0., 0., 0., 0.],\n",
      "          [0., 0., 0., 0., 0., 0., 0., 0.],\n",
      "          [0., 0., 0., 0., 0., 0., 0., 0.]],\n",
      "\n",
      "         [[0., 0., 0., 0., 0., 0., 0., 0.],\n",
      "          [0., 0., 0., 0., 0., 0., 0., 0.],\n",
      "          [0., 0., 0., 0., 0., 0., 0., 0.],\n",
      "          [0., 0., 0., 0., 0., 0., 0., 0.],\n",
      "          [1., 1., 1., 1., 1., 1., 1., 1.],\n",
      "          [0., 0., 0., 0., 0., 0., 0., 0.],\n",
      "          [0., 0., 0., 0., 0., 0., 0., 0.]]],\n",
      "\n",
      "\n",
      "        [[[0., 0., 0., 0., 0., 0., 0., 1.],\n",
      "          [0., 0., 0., 0., 0., 0., 0., 1.],\n",
      "          [0., 0., 0., 0., 0., 0., 0., 1.],\n",
      "          [0., 0., 0., 0., 0., 0., 0., 1.],\n",
      "          [0., 0., 0., 0., 0., 0., 0., 1.],\n",
      "          [0., 0., 0., 0., 0., 0., 0., 1.],\n",
      "          [0., 0., 0., 0., 0., 0., 0., 1.]],\n",
      "\n",
      "         [[0., 0., 0., 0., 0., 0., 0., 0.],\n",
      "          [0., 0., 0., 0., 0., 0., 0., 0.],\n",
      "          [0., 0., 0., 0., 0., 0., 0., 0.],\n",
      "          [0., 0., 0., 0., 0., 0., 0., 0.],\n",
      "          [0., 0., 0., 0., 0., 0., 0., 0.],\n",
      "          [0., 0., 0., 0., 0., 0., 0., 0.],\n",
      "          [0., 0., 0., 0., 0., 0., 0., 0.]],\n",
      "\n",
      "         [[0., 0., 0., 0., 0., 0., 0., 0.],\n",
      "          [0., 0., 0., 0., 0., 0., 0., 0.],\n",
      "          [0., 0., 0., 0., 0., 0., 0., 0.],\n",
      "          [0., 0., 0., 0., 0., 0., 0., 0.],\n",
      "          [0., 0., 0., 0., 0., 0., 0., 0.],\n",
      "          [0., 0., 0., 0., 0., 0., 0., 0.],\n",
      "          [0., 0., 0., 0., 0., 0., 0., 0.]]],\n",
      "\n",
      "\n",
      "        [[[0., 0., 0., 0., 0., 0., 0., 0.],\n",
      "          [0., 0., 0., 0., 0., 0., 0., 0.],\n",
      "          [0., 0., 0., 0., 0., 0., 0., 0.],\n",
      "          [0., 0., 0., 0., 0., 0., 0., 0.],\n",
      "          [0., 0., 0., 0., 0., 0., 0., 0.],\n",
      "          [0., 0., 0., 0., 0., 0., 0., 0.],\n",
      "          [0., 0., 0., 0., 0., 0., 0., 0.]],\n",
      "\n",
      "         [[0., 0., 0., 0., 0., 0., 0., 0.],\n",
      "          [0., 0., 0., 0., 0., 1., 1., 1.],\n",
      "          [0., 0., 0., 0., 0., 1., 1., 1.],\n",
      "          [0., 0., 0., 0., 0., 0., 0., 0.],\n",
      "          [0., 0., 0., 0., 0., 0., 0., 0.],\n",
      "          [0., 0., 0., 0., 0., 0., 0., 0.],\n",
      "          [0., 0., 0., 0., 0., 0., 0., 0.]],\n",
      "\n",
      "         [[0., 0., 0., 0., 0., 0., 0., 0.],\n",
      "          [0., 0., 0., 0., 0., 0., 0., 0.],\n",
      "          [0., 0., 0., 0., 0., 0., 0., 0.],\n",
      "          [0., 0., 1., 1., 0., 0., 0., 0.],\n",
      "          [0., 0., 1., 1., 0., 0., 0., 0.],\n",
      "          [0., 0., 0., 0., 0., 0., 0., 0.],\n",
      "          [0., 0., 0., 0., 0., 0., 0., 0.]]]])\n"
     ]
    }
   ],
   "source": [
    "if __name__ == '__main__':\n",
    "\n",
    "  a = torch.zeros(3,7,8)\n",
    "  a[0,3,:] = 1\n",
    "  a[0,4,:] = 5\n",
    "  a[1,2,:] = 7\n",
    "  a[1,:,7] = 1\n",
    "  a[2,1:3,5:] = 2\n",
    "  a[2,3:5,2:4] = 5\n",
    "\n",
    "  print(a)\n",
    "  b = class2d_to_onehot([1,2,5])(a)\n",
    "  # 0, 1, 2, 5, 7\n",
    "  print(b.size())\n",
    "  print(b)\n",
    "  # torch.stack([a,b,c], dim=1)"
   ]
  }
 ],
 "metadata": {
  "kernelspec": {
   "display_name": "Python 3",
   "language": "python",
   "name": "python3"
  },
  "language_info": {
   "codemirror_mode": {
    "name": "ipython",
    "version": 3
   },
   "file_extension": ".py",
   "mimetype": "text/x-python",
   "name": "python",
   "nbconvert_exporter": "python",
   "pygments_lexer": "ipython3",
   "version": "3.6.8"
  }
 },
 "nbformat": 4,
 "nbformat_minor": 4
}
