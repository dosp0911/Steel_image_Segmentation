{
 "cells": [
  {
   "cell_type": "code",
   "execution_count": 1,
   "metadata": {},
   "outputs": [],
   "source": [
    "import pandas as pd\n",
    "import shutil\n",
    "\n",
    "import pathlib\n",
    "from tqdm import tqdm "
   ]
  },
  {
   "cell_type": "code",
   "execution_count": 2,
   "metadata": {},
   "outputs": [],
   "source": [
    "def csv_file_load(f_p, index_col=False ):\n",
    "    if f_p.exists():\n",
    "        return pd.read_csv(f_p, index_col=index_col)\n",
    "    else:\n",
    "        raise FileExistsError(f'{f_p} no exist!')"
   ]
  },
  {
   "cell_type": "code",
   "execution_count": 16,
   "metadata": {},
   "outputs": [],
   "source": [
    "def move_files_to_class_folders(f_names, classes, root_f):\n",
    "    root_path = pathlib.Path(str(root_f))\n",
    "    if not(root_path.exists()):\n",
    "        raise FileExistsError(f'{root_f} does not exist')\n",
    "        \n",
    "    class_dirs = pd.unique(classes).astype('str')\n",
    "    for d in class_dirs:\n",
    "        class_dir = root_path / d\n",
    "        if not class_dir.exists():\n",
    "            class_dir.mkdir()\n",
    "        \n",
    "    for file, c_ in tqdm(zip(f_names, classes.astype('str'))):\n",
    "        shutil.copy(str(root_path / file), str(root_path / c_))\n",
    "        \n",
    "    print('Done.')"
   ]
  },
  {
   "cell_type": "code",
   "execution_count": null,
   "metadata": {},
   "outputs": [],
   "source": [
    "def print_model_memory_size(model):\n",
    "    total_ = 0\n",
    "    for k, v in model.state_dict().items():\n",
    "        print(f'name:{k} size:{v.size()} dtype:{v.dtype}')\n",
    "        total_ += v.numel()\n",
    "    print(f'Model size : {total_*4} byte -> {total_*4/1024**2} MiB')\n"
   ]
  },
  {
   "cell_type": "code",
   "execution_count": 1,
   "metadata": {},
   "outputs": [
    {
     "name": "stderr",
     "output_type": "stream",
     "text": [
      "[NbConvertApp] Converting notebook util.ipynb to script\n",
      "[NbConvertApp] Writing 879 bytes to util.py\n"
     ]
    }
   ],
   "source": [
    "#!jupyter nbconvert --to script util.ipynb"
   ]
  }
 ],
 "metadata": {
  "kernelspec": {
   "display_name": "Python 3",
   "language": "python",
   "name": "python3"
  },
  "language_info": {
   "codemirror_mode": {
    "name": "ipython",
    "version": 3
   },
   "file_extension": ".py",
   "mimetype": "text/x-python",
   "name": "python",
   "nbconvert_exporter": "python",
   "pygments_lexer": "ipython3",
   "version": "3.6.8"
  }
 },
 "nbformat": 4,
 "nbformat_minor": 4
}
