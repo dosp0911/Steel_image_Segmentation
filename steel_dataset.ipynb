{
 "cells": [
  {
   "cell_type": "code",
   "execution_count": 2,
   "metadata": {},
   "outputs": [],
   "source": [
    "from torch.utils.data.dataset import Dataset\n",
    "import torch\n",
    "import pathlib\n",
    "\n",
    "import matplotlib.pyplot as plt\n",
    "import numpy as np\n",
    "\n",
    "# import import_ipynb\n",
    "from util import csv_file_load\n",
    "from pre_processing import Pre_process_img as p"
   ]
  },
  {
   "cell_type": "code",
   "execution_count": 4,
   "metadata": {},
   "outputs": [],
   "source": [
    "class Steel_dataset(Dataset):\n",
    "    # out_size =  the size of output of the final layer for mask\n",
    "    def __init__(self, img_f_path, dataframe, out_size=(132, 1476)):\n",
    "        super(Steel_dataset, self).__init__()\n",
    "        \n",
    "        if isinstance(img_f_path, str):\n",
    "            self.img_f_path = pathlib.Path(img_f_path)\n",
    "        else:\n",
    "            self.img_f_path = img_f_path\n",
    "        self.dataframe = dataframe\n",
    "        self.out_size = out_size\n",
    "        \n",
    "    def __getitem__(self, index):\n",
    "        img_info = self.dataframe.iloc[index]\n",
    "        name, i_class, encoded_p = img_info[0], img_info[1], img_info[2] \n",
    "        \n",
    "        # img read and standardize\n",
    "        img_arr = plt.imread(str(self.img_f_path / name))\n",
    "        \n",
    "        # decode rle 1d into 2d tensor with maksing class number\n",
    "        mask = p().decode_pixels_to_mask(size=np.shape(img_arr), encoded_p=encoded_p, mask_val=int(i_class))\n",
    "        mask = p().crop_img(mask, self.out_size[0], self.out_size[1])\n",
    "        mask = torch.from_numpy(mask)\n",
    "        \n",
    "        #overlap-tile strategy\n",
    "        img_arr = p().overlap_tile(img_arr, 30, 30) \n",
    "        img_arr = torch.from_numpy(img_arr) / 255.0\n",
    "        #convert img shape into(C,H,W)\n",
    "        img_arr = img_arr.permute(2,0,1)\n",
    "        \n",
    "        return img_arr, mask\n",
    "    \n",
    "    def __len__(self):\n",
    "        return len(self.dataframe)"
   ]
  },
  {
   "cell_type": "code",
   "execution_count": 2,
   "metadata": {},
   "outputs": [
    {
     "name": "stderr",
     "output_type": "stream",
     "text": [
      "[NbConvertApp] Converting notebook steel_dataset.ipynb to script\n",
      "[NbConvertApp] Writing 1728 bytes to steel_dataset.py\n"
     ]
    }
   ],
   "source": [
    "# !jupyter nbconvert --to script steel_dataset.ipynb"
   ]
  }
 ],
 "metadata": {
  "kernelspec": {
   "display_name": "Python 3",
   "language": "python",
   "name": "python3"
  },
  "language_info": {
   "codemirror_mode": {
    "name": "ipython",
    "version": 3
   },
   "file_extension": ".py",
   "mimetype": "text/x-python",
   "name": "python",
   "nbconvert_exporter": "python",
   "pygments_lexer": "ipython3",
   "version": "3.6.8"
  }
 },
 "nbformat": 4,
 "nbformat_minor": 4
}
