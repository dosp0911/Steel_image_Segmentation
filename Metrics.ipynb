{
 "cells": [
  {
   "cell_type": "code",
   "execution_count": null,
   "metadata": {},
   "outputs": [],
   "source": [
    "import torch\n",
    "import torch.nn as nn"
   ]
  },
  {
   "cell_type": "code",
   "execution_count": 3,
   "metadata": {},
   "outputs": [
    {
     "data": {
      "text/plain": [
       "tensor([0, 0, 0, 1, 1, 1, 0, 0, 0])"
      ]
     },
     "execution_count": 3,
     "metadata": {},
     "output_type": "execute_result"
    }
   ],
   "source": [
    "torch.tensor([0,0,0,1,1,1,0,0,0]).contiguous()"
   ]
  },
  {
   "cell_type": "code",
   "execution_count": null,
   "metadata": {},
   "outputs": [],
   "source": [
    "def dice(p, g):\n",
    "  p_ = p.contiguous().view(-1)\n",
    "  g_ = g.contiguous().view(-1)\n",
    "  intersection = (p_ * g_).sum()\n",
    "  smooth = 1\n",
    "  p_sum = p_.sum()\n",
    "  g_sum = g_.sum()\n",
    "  \n",
    "  return 2 * intersection + smooth / (p_sum + g_sum + smooth)\n",
    "  \n",
    "def iou(p, g):\n",
    "  p_ = p.contiguous().view(-1)\n",
    "  g_ = g.contiguous().view(-1)\n",
    "  intersection = (p_ * g_).sum()\n",
    "  smooth = 1\n",
    "  p_sum = p_.sum()\n",
    "  g_sum = g_.sum()\n",
    "  \n",
    "  return intersection + smooth / (p_sum + g_sum + smooth)  \n",
    "\n",
    "def mAP():\n",
    "\n",
    "def recall(p, g):\n",
    "  p_ = p.contiguous().view(-1)\n",
    "  g_ = g.contiguous().view(-1)\n",
    "  intersection = (p_ * g_).sum()\n",
    "  smooth = 1\n",
    "  p_sum = p_.sum()\n",
    "  g_sum = g_.sum()\n",
    "  \n",
    "  return (intersection + smooth) / g_sum + smooth\n",
    "\n",
    "def precision(p, g):\n",
    "  p_ = p.contiguous().view(-1)\n",
    "  g_ = g.contiguous().view(-1)\n",
    "  intersection = (p_ * g_).sum()\n",
    "  smooth = 1\n",
    "  p_sum = p_.sum()\n",
    "  g_sum = g_.sum()\n",
    "  \n",
    "  return (intersection + smooth) / p_sum + smooth\n",
    "\n",
    "def F_score(p, r):\n",
    "  return 2 * (p + r) / p * r \n"
   ]
  },
  {
   "cell_type": "code",
   "execution_count": 1,
   "metadata": {},
   "outputs": [
    {
     "ename": "SyntaxError",
     "evalue": "unexpected EOF while parsing (<ipython-input-1-50bf3d0a61f3>, line 10)",
     "output_type": "error",
     "traceback": [
      "\u001b[1;36m  File \u001b[1;32m\"<ipython-input-1-50bf3d0a61f3>\"\u001b[1;36m, line \u001b[1;32m10\u001b[0m\n\u001b[1;33m    \u001b[0m\n\u001b[1;37m    ^\u001b[0m\n\u001b[1;31mSyntaxError\u001b[0m\u001b[1;31m:\u001b[0m unexpected EOF while parsing\n"
     ]
    }
   ],
   "source": [
    "\n",
    "class DICELossMultiClass(nn.Module):\n",
    "  \n",
    "  def __init__(self, weights=1):\n",
    "    super(DICELossMultiClass, self).__init__()\n",
    "    self.weigths = weights\n",
    "    \n",
    "  def forward(self, pred, target):\n",
    "    "
   ]
  },
  {
   "cell_type": "code",
   "execution_count": null,
   "metadata": {},
   "outputs": [],
   "source": [
    "class DICELoss(nn.Module):\n",
    "  def __init__(self):\n",
    "    super(DICELoss, self).__init__()\n",
    "    \n",
    "  def forward(self, pred, target):\n",
    "    pred_ = nn.Sigmoid(pred)"
   ]
  }
 ],
 "metadata": {
  "kernelspec": {
   "display_name": "Python 3",
   "language": "python",
   "name": "python3"
  },
  "language_info": {
   "codemirror_mode": {
    "name": "ipython",
    "version": 3
   },
   "file_extension": ".py",
   "mimetype": "text/x-python",
   "name": "python",
   "nbconvert_exporter": "python",
   "pygments_lexer": "ipython3",
   "version": "3.6.8"
  }
 },
 "nbformat": 4,
 "nbformat_minor": 4
}
