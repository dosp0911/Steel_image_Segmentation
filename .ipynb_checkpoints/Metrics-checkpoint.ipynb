{
 "cells": [
  {
   "cell_type": "code",
   "execution_count": 13,
   "metadata": {},
   "outputs": [],
   "source": [
    "import torch\n",
    "import torch.nn as nn"
   ]
  },
  {
   "cell_type": "code",
   "execution_count": 3,
   "metadata": {},
   "outputs": [
    {
     "data": {
      "text/plain": [
       "tensor([0, 0, 0, 1, 1, 1, 0, 0, 0])"
      ]
     },
     "execution_count": 3,
     "metadata": {},
     "output_type": "execute_result"
    }
   ],
   "source": [
    "torch.tensor([0,0,0,1,1,1,0,0,0]).contiguous()"
   ]
  },
  {
   "cell_type": "code",
   "execution_count": 1,
   "metadata": {},
   "outputs": [],
   "source": [
    "def Dice(p, g):\n",
    "  p_ = p.contiguous().view(-1)\n",
    "  g_ = g.contiguous().view(-1)\n",
    "  intersection = (p_ * g_).sum()\n",
    "  smooth = 1\n",
    "  p_sum = p_.sum()\n",
    "  g_sum = g_.sum()\n",
    "  \n",
    "  return 2 * intersection + smooth / (p_sum + g_sum + smooth)\n",
    "  \n",
    "def Iou(p, g):\n",
    "  p_ = p.contiguous().view(-1)\n",
    "  g_ = g.contiguous().view(-1)\n",
    "  intersection = (p_ * g_).sum()\n",
    "  smooth = 1\n",
    "  p_sum = p_.sum()\n",
    "  g_sum = g_.sum()\n",
    "  \n",
    "  return intersection + smooth / (p_sum + g_sum -intersection + smooth)  \n",
    "\n",
    "def mAP():\n",
    "  return 1\n",
    "\n",
    "def Recall(p, g):\n",
    "  p_ = p.contiguous().view(-1)\n",
    "  g_ = g.contiguous().view(-1)\n",
    "  intersection = (p_ * g_).sum()\n",
    "  smooth = 1\n",
    "  p_sum = p_.sum()\n",
    "  g_sum = g_.sum()\n",
    "  \n",
    "  return (intersection + smooth) / g_sum + smooth\n",
    "\n",
    "def Precision(p, g):\n",
    "  p_ = p.contiguous().view(-1)\n",
    "  g_ = g.contiguous().view(-1)\n",
    "  intersection = (p_ * g_).sum()\n",
    "  smooth = 1\n",
    "  p_sum = p_.sum()\n",
    "  g_sum = g_.sum()\n",
    "  \n",
    "  return (intersection + smooth) / p_sum + smooth\n",
    "\n",
    "def F_score(p, r):\n",
    "  return 2 * (p + r) / p * r \n"
   ]
  },
  {
   "cell_type": "code",
   "execution_count": 1,
   "metadata": {},
   "outputs": [
    {
     "ename": "SyntaxError",
     "evalue": "unexpected EOF while parsing (<ipython-input-1-50bf3d0a61f3>, line 10)",
     "output_type": "error",
     "traceback": [
      "\u001b[1;36m  File \u001b[1;32m\"<ipython-input-1-50bf3d0a61f3>\"\u001b[1;36m, line \u001b[1;32m10\u001b[0m\n\u001b[1;33m    \u001b[0m\n\u001b[1;37m    ^\u001b[0m\n\u001b[1;31mSyntaxError\u001b[0m\u001b[1;31m:\u001b[0m unexpected EOF while parsing\n"
     ]
    }
   ],
   "source": [
    "\n",
    "class DICELossMultiClass(nn.Module):\n",
    "  '''\n",
    "    weigths and pred classes must have same size\n",
    "  '''\n",
    "  def __init__(self, weights=1):\n",
    "    super(DICELossMultiClass, self).__init__()\n",
    "    self.weigths = weights\n",
    "    \n",
    "  def forward(self, pred, target):\n",
    "    "
   ]
  },
  {
   "cell_type": "code",
   "execution_count": null,
   "metadata": {},
   "outputs": [],
   "source": [
    "class DICELoss(nn.Module):\n",
    "  def __init__(self):\n",
    "    super(DICELoss, self).__init__()\n",
    "    self.softmax2D = nn.Softmax2d()\n",
    "    \n",
    "  def forward(self, pred, target):\n",
    "    \"\"\"\n",
    "        pred : (N, C, H, W) \n",
    "        target : (N, H, W) \n",
    "    \"\"\"\n",
    "    pred = self.softmax2D(pred)\n",
    "    \n",
    "    return 1 - dice(pred, target)\n",
    "  "
   ]
  },
  {
   "cell_type": "code",
   "execution_count": 12,
   "metadata": {},
   "outputs": [
    {
     "data": {
      "text/plain": [
       "tensor([0.7311])"
      ]
     },
     "execution_count": 12,
     "metadata": {},
     "output_type": "execute_result"
    }
   ],
   "source": [
    "import torch\n",
    "torch.nn.Sigmoid()(torch.tensor([1.0]))"
   ]
  },
  {
   "cell_type": "code",
   "execution_count": null,
   "metadata": {},
   "outputs": [],
   "source": []
  }
 ],
 "metadata": {
  "kernelspec": {
   "display_name": "Python 3",
   "language": "python",
   "name": "python3"
  },
  "language_info": {
   "codemirror_mode": {
    "name": "ipython",
    "version": 3
   },
   "file_extension": ".py",
   "mimetype": "text/x-python",
   "name": "python",
   "nbconvert_exporter": "python",
   "pygments_lexer": "ipython3",
   "version": "3.6.8"
  }
 },
 "nbformat": 4,
 "nbformat_minor": 4
}
