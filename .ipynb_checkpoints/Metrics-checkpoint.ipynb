{
 "cells": [
  {
   "cell_type": "code",
   "execution_count": 2,
   "metadata": {},
   "outputs": [],
   "source": [
    "import torch"
   ]
  },
  {
   "cell_type": "code",
   "execution_count": 3,
   "metadata": {},
   "outputs": [
    {
     "data": {
      "text/plain": [
       "tensor([0, 0, 0, 1, 1, 1, 0, 0, 0])"
      ]
     },
     "execution_count": 3,
     "metadata": {},
     "output_type": "execute_result"
    }
   ],
   "source": [
    "torch.tensor([0,0,0,1,1,1,0,0,0]).contiguous()"
   ]
  },
  {
   "cell_type": "code",
   "execution_count": null,
   "metadata": {},
   "outputs": [],
   "source": [
    "def dice(p, g):\n",
    "  p_ = p.contiguous().view(-1)\n",
    "  g_ = g.contiguous().view(-1)\n",
    "  intersection = (p_ * g_).sum()\n",
    "  smooth = 1\n",
    "  p_sum = p_.sum()\n",
    "  g_sum = g_.sum()\n",
    "  \n",
    "  return 2 * intersection + smooth / (p_sum + g_sum + smooth)\n",
    "  \n",
    "def iou(p, g):\n",
    "  p_ = p.contiguous().view(-1)\n",
    "  g_ = g.contiguous().view(-1)\n",
    "  intersection = (p_ * g_).sum()\n",
    "  smooth = 1\n",
    "  p_sum = p_.sum()\n",
    "  g_sum = g_.sum()\n",
    "  \n",
    "  return intersection + smooth / (p_sum + g_sum + smooth)  \n",
    "\n",
    "def mAP():\n",
    "\n",
    "def recall(p, g):\n",
    "  p_ = p.contiguous().view(-1)\n",
    "  g_ = g.contiguous().view(-1)\n",
    "  intersection = (p_ * g_).sum()\n",
    "  smooth = 1\n",
    "  p_sum = p_.sum()\n",
    "  g_sum = g_.sum()\n",
    "  \n",
    "  return (intersection + smooth) / g_sum + smooth\n",
    "\n",
    "def precision(p, g):\n",
    "  p_ = p.contiguous().view(-1)\n",
    "  g_ = g.contiguous().view(-1)\n",
    "  intersection = (p_ * g_).sum()\n",
    "  smooth = 1\n",
    "  p_sum = p_.sum()\n",
    "  g_sum = g_.sum()\n",
    "  \n",
    "  return (intersection + smooth) / p_sum + smooth\n",
    "def F_score():"
   ]
  }
 ],
 "metadata": {
  "kernelspec": {
   "display_name": "Python 3",
   "language": "python",
   "name": "python3"
  },
  "language_info": {
   "codemirror_mode": {
    "name": "ipython",
    "version": 3
   },
   "file_extension": ".py",
   "mimetype": "text/x-python",
   "name": "python",
   "nbconvert_exporter": "python",
   "pygments_lexer": "ipython3",
   "version": "3.6.8"
  }
 },
 "nbformat": 4,
 "nbformat_minor": 4
}
